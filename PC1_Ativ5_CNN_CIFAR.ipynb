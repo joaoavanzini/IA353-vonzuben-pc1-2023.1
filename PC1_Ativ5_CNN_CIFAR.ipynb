{
 "cells": [
  {
   "cell_type": "markdown",
   "metadata": {
    "id": "xMsNyA3WPrER"
   },
   "source": [
    "## **Notebook PC1_Ativ5**\n",
    "## Convolutional classifier for the MNIST database.\n",
    "**Professor:** Fernando J. Von Zuben <br>\n",
    "**Aluno(a):** João Victor Palhares Barbosa\n"
   ]
  },
  {
   "cell_type": "code",
   "execution_count": 3,
   "metadata": {
    "id": "rzk_w5ftc4bi"
   },
   "outputs": [
    {
     "name": "stderr",
     "output_type": "stream",
     "text": [
      "2023-05-04 17:06:42.612977: I tensorflow/compiler/mlir/mlir_graph_optimization_pass.cc:116] None of the MLIR optimization passes are enabled (registered 2)\n",
      "2023-05-04 17:06:42.633434: I tensorflow/core/platform/profile_utils/cpu_utils.cc:112] CPU Frequency: 2300010000 Hz\n"
     ]
    },
    {
     "name": "stdout",
     "output_type": "stream",
     "text": [
      "Epoch 1/50\n"
     ]
    },
    {
     "name": "stderr",
     "output_type": "stream",
     "text": [
      "2023-05-04 17:06:43.195618: I tensorflow/stream_executor/platform/default/dso_loader.cc:49] Successfully opened dynamic library libcublas.so.10\n",
      "2023-05-04 17:06:43.474256: I tensorflow/stream_executor/platform/default/dso_loader.cc:49] Successfully opened dynamic library libcudnn.so.7\n"
     ]
    },
    {
     "name": "stdout",
     "output_type": "stream",
     "text": [
      "391/391 [==============================] - 6s 9ms/step - loss: 1.9234 - accuracy: 0.3031 - val_loss: 1.3839 - val_accuracy: 0.5166\n",
      "Epoch 2/50\n",
      "391/391 [==============================] - 3s 7ms/step - loss: 1.3723 - accuracy: 0.5149 - val_loss: 1.0943 - val_accuracy: 0.6213\n",
      "Epoch 3/50\n",
      "391/391 [==============================] - 3s 7ms/step - loss: 1.1807 - accuracy: 0.5857 - val_loss: 1.0847 - val_accuracy: 0.6266\n",
      "Epoch 4/50\n",
      "391/391 [==============================] - 3s 7ms/step - loss: 1.0734 - accuracy: 0.6274 - val_loss: 0.9483 - val_accuracy: 0.6713\n",
      "Epoch 5/50\n",
      "391/391 [==============================] - 3s 7ms/step - loss: 1.0004 - accuracy: 0.6511 - val_loss: 0.9256 - val_accuracy: 0.6725\n",
      "Epoch 6/50\n",
      "391/391 [==============================] - 3s 8ms/step - loss: 0.9536 - accuracy: 0.6709 - val_loss: 0.9754 - val_accuracy: 0.6677\n",
      "Epoch 7/50\n",
      "391/391 [==============================] - 3s 7ms/step - loss: 0.9070 - accuracy: 0.6858 - val_loss: 0.8912 - val_accuracy: 0.6949\n",
      "Epoch 8/50\n",
      "391/391 [==============================] - 3s 7ms/step - loss: 0.8857 - accuracy: 0.6952 - val_loss: 0.9601 - val_accuracy: 0.6815\n",
      "Epoch 9/50\n",
      "391/391 [==============================] - 3s 7ms/step - loss: 0.8606 - accuracy: 0.7048 - val_loss: 0.8934 - val_accuracy: 0.6991\n",
      "Epoch 10/50\n",
      "391/391 [==============================] - 3s 7ms/step - loss: 0.8376 - accuracy: 0.7153 - val_loss: 1.0322 - val_accuracy: 0.6555\n",
      "\n",
      "Epoch 00010: ReduceLROnPlateau reducing learning rate to 0.00010000000474974513.\n",
      "Epoch 11/50\n",
      "391/391 [==============================] - 3s 7ms/step - loss: 0.7366 - accuracy: 0.7437 - val_loss: 0.8198 - val_accuracy: 0.7202\n",
      "Epoch 12/50\n",
      "391/391 [==============================] - 3s 7ms/step - loss: 0.6958 - accuracy: 0.7595 - val_loss: 0.8314 - val_accuracy: 0.7213\n",
      "Epoch 13/50\n",
      "391/391 [==============================] - 3s 7ms/step - loss: 0.6821 - accuracy: 0.7647 - val_loss: 0.8145 - val_accuracy: 0.7232\n",
      "Epoch 14/50\n",
      "391/391 [==============================] - 3s 7ms/step - loss: 0.6873 - accuracy: 0.7621 - val_loss: 0.8230 - val_accuracy: 0.7253\n",
      "Epoch 15/50\n",
      "391/391 [==============================] - 3s 7ms/step - loss: 0.6767 - accuracy: 0.7697 - val_loss: 0.8188 - val_accuracy: 0.7250\n",
      "Epoch 16/50\n",
      "391/391 [==============================] - 3s 7ms/step - loss: 0.6713 - accuracy: 0.7688 - val_loss: 0.8062 - val_accuracy: 0.7263\n",
      "Epoch 17/50\n",
      "391/391 [==============================] - 3s 7ms/step - loss: 0.6701 - accuracy: 0.7697 - val_loss: 0.8104 - val_accuracy: 0.7264\n",
      "Epoch 18/50\n",
      "391/391 [==============================] - 3s 7ms/step - loss: 0.6688 - accuracy: 0.7719 - val_loss: 0.8076 - val_accuracy: 0.7264\n",
      "Epoch 19/50\n",
      "391/391 [==============================] - 3s 7ms/step - loss: 0.6580 - accuracy: 0.7758 - val_loss: 0.8125 - val_accuracy: 0.7272\n",
      "\n",
      "Epoch 00019: ReduceLROnPlateau reducing learning rate to 0.0001.\n",
      "Epoch 20/50\n",
      "391/391 [==============================] - 3s 7ms/step - loss: 0.6472 - accuracy: 0.7769 - val_loss: 0.8069 - val_accuracy: 0.7271\n",
      "Epoch 21/50\n",
      "391/391 [==============================] - 3s 7ms/step - loss: 0.6508 - accuracy: 0.7770 - val_loss: 0.8285 - val_accuracy: 0.7292\n",
      "Epoch 00021: early stopping\n",
      "Model: \"sequential_2\"\n",
      "_________________________________________________________________\n",
      "Layer (type)                 Output Shape              Param #   \n",
      "=================================================================\n",
      "conv2d_4 (Conv2D)            (None, 30, 30, 32)        896       \n",
      "_________________________________________________________________\n",
      "conv2d_5 (Conv2D)            (None, 28, 28, 64)        18496     \n",
      "_________________________________________________________________\n",
      "max_pooling2d_2 (MaxPooling2 (None, 14, 14, 64)        0         \n",
      "_________________________________________________________________\n",
      "dropout_4 (Dropout)          (None, 14, 14, 64)        0         \n",
      "_________________________________________________________________\n",
      "flatten_2 (Flatten)          (None, 12544)             0         \n",
      "_________________________________________________________________\n",
      "dense_4 (Dense)              (None, 128)               1605760   \n",
      "_________________________________________________________________\n",
      "dropout_5 (Dropout)          (None, 128)               0         \n",
      "_________________________________________________________________\n",
      "dense_5 (Dense)              (None, 10)                1290      \n",
      "=================================================================\n",
      "Total params: 1,626,442\n",
      "Trainable params: 1,626,442\n",
      "Non-trainable params: 0\n",
      "_________________________________________________________________\n",
      "Evaluate on test data\n",
      "test loss, test acc: [0.8285312652587891, 0.729200005531311]\n",
      "Model saved to disk\n"
     ]
    },
    {
     "data": {
      "text/plain": [
       "'/home_docker'"
      ]
     },
     "execution_count": 3,
     "metadata": {},
     "output_type": "execute_result"
    }
   ],
   "source": [
    "import tensorflow as tf\n",
    "from tensorflow.keras.optimizers import RMSprop\n",
    "from tensorflow.keras.callbacks import EarlyStopping, ReduceLROnPlateau\n",
    "import os\n",
    "cifar = tf.keras.datasets.cifar10\n",
    "\n",
    "(x_train, y_train),(x_test, y_test) = cifar.load_data()\n",
    "\n",
    "x_train = x_train.astype(\"float32\") / 255\n",
    "x_test = x_test.astype(\"float32\") / 255\n",
    "\n",
    "num_classes = 10\n",
    "y_train = tf.keras.utils.to_categorical(y_train, num_classes)\n",
    "y_test = tf.keras.utils.to_categorical(y_test, num_classes)\n",
    "\n",
    "# model = tf.keras.models.Sequential()\n",
    "# model.add(tf.keras.layers.Conv2D(32, kernel_size=(3, 3),\n",
    "#                                  activation='relu',\n",
    "#                                  input_shape=(28, 28, 1)))\n",
    "# model.add(tf.keras.layers.Conv2D(64, (3, 3), activation='relu'))\n",
    "# model.add(tf.keras.layers.MaxPooling2D(pool_size=(2, 2)))\n",
    "# model.add(tf.keras.layers.Dropout(0.25))\n",
    "# model.add(tf.keras.layers.Flatten())\n",
    "# model.add(tf.keras.layers.Dense(128, activation='relu'))\n",
    "# model.add(tf.keras.layers.Dropout(0.5))\n",
    "# model.add(tf.keras.layers.Dense(10, activation='softmax'))\n",
    "\n",
    "model = tf.keras.models.Sequential()\n",
    "model.add(tf.keras.layers.Conv2D(32, kernel_size=(3, 3), activation='relu', input_shape=(32, 32, 3)))\n",
    "model.add(tf.keras.layers.Conv2D(64, (3, 3), activation='relu'))\n",
    "model.add(tf.keras.layers.MaxPooling2D(pool_size=(2, 2)))\n",
    "model.add(tf.keras.layers.Dropout(0.25))\n",
    "model.add(tf.keras.layers.Flatten())\n",
    "model.add(tf.keras.layers.Dense(128, activation='relu'))\n",
    "model.add(tf.keras.layers.Dropout(0.5))\n",
    "model.add(tf.keras.layers.Dense(num_classes, activation='softmax'))\n",
    "\n",
    "model.compile(loss='categorical_crossentropy', optimizer=RMSprop(lr=0.001), metrics=['accuracy'])\n",
    "\n",
    "early_stopping = EarlyStopping(monitor='val_loss', patience=5, verbose=1, mode='auto')\n",
    "reduce_lr = ReduceLROnPlateau(monitor='val_loss', factor=0.1, patience=3, verbose=1, mode='auto', min_lr=0.0001)\n",
    "\n",
    "\n",
    "history = model.fit(x_train, y_train, batch_size=128, epochs=50, verbose=1, \n",
    "                    validation_data=(x_test, y_test), callbacks=[early_stopping, reduce_lr])\n",
    "\n",
    "model.summary()\n",
    "# Evaluate the model on the test data using `evaluate`\n",
    "print(\"Evaluate on test data\")\n",
    "results = model.evaluate(x_test, y_test, verbose=0)\n",
    "print(\"test loss, test acc:\", results)\n",
    "model_json = model.to_json()\n",
    "json_file = open(\"model_CNN_cifar.json\", \"w\")\n",
    "json_file.write(model_json)\n",
    "json_file.close()\n",
    "model.save_weights(\"model_CNN_cifar.h5\")\n",
    "print(\"Model saved to disk\")\n",
    "os.getcwd()"
   ]
  },
  {
   "cell_type": "markdown",
   "metadata": {},
   "source": [
    "**Resposta:** "
   ]
  },
  {
   "cell_type": "code",
   "execution_count": null,
   "metadata": {},
   "outputs": [],
   "source": []
  }
 ],
 "metadata": {
  "colab": {
   "provenance": []
  },
  "kernelspec": {
   "display_name": "Python 3 (ipykernel)",
   "language": "python",
   "name": "python3"
  },
  "language_info": {
   "codemirror_mode": {
    "name": "ipython",
    "version": 3
   },
   "file_extension": ".py",
   "mimetype": "text/x-python",
   "name": "python",
   "nbconvert_exporter": "python",
   "pygments_lexer": "ipython3",
   "version": "3.8.13"
  }
 },
 "nbformat": 4,
 "nbformat_minor": 4
}
